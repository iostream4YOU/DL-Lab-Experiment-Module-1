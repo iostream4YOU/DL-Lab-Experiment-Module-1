{
  "nbformat": 4,
  "nbformat_minor": 0,
  "metadata": {
    "colab": {
      "provenance": []
    },
    "kernelspec": {
      "name": "python3",
      "display_name": "Python 3"
    },
    "language_info": {
      "name": "python"
    }
  },
  "cells": [
    {
      "cell_type": "markdown",
      "source": [
        "DL LAB EXP-1"
      ],
      "metadata": {
        "id": "o5KX8gyL5ppO"
      }
    },
    {
      "cell_type": "code",
      "execution_count": 1,
      "metadata": {
        "colab": {
          "base_uri": "https://localhost:8080/",
          "height": 0
        },
        "id": "h2ZI-p035M4S",
        "outputId": "e029e356-694a-4a9b-e333-0ebbd95f6f63"
      },
      "outputs": [
        {
          "output_type": "stream",
          "name": "stdout",
          "text": [
            "Inputs: [1 0 1]\n",
            "Weights: [ 0.5 -0.6  0.2]\n",
            "Bias: 0.1\n",
            "Neuron Output (after activation): 0.6900\n",
            "Binary Classification: 1\n"
          ]
        }
      ],
      "source": [
        "import numpy as np\n",
        "\n",
        "# Sigmoid activation function\n",
        "def sigmoid(x):\n",
        "    return 1 / (1 + np.exp(-x))\n",
        "\n",
        "def sigmoid_derivative(x):\n",
        "    return sigmoid(x) * (1 - sigmoid(x))\n",
        "\n",
        "def single_neuron(inputs, weights, bias):\n",
        "    # Calculate the weighted sum\n",
        "    weighted_sum = np.dot(inputs, weights) + bias\n",
        "    # Apply the activation function\n",
        "    output = sigmoid(weighted_sum)\n",
        "    return output\n",
        "\n",
        "inputs = np.array([1, 0, 1])\n",
        "\n",
        "weights = np.array([0.5, -0.6, 0.2])\n",
        "\n",
        "# Bias\n",
        "bias = 0.1\n",
        "\n",
        "# Performing binary classification\n",
        "output = single_neuron(inputs, weights, bias)\n",
        "\n",
        "# Displaying the result\n",
        "print(f\"Inputs: {inputs}\")\n",
        "print(f\"Weights: {weights}\")\n",
        "print(f\"Bias: {bias}\")\n",
        "print(f\"Neuron Output (after activation): {output:.4f}\")\n",
        "\n",
        "# Binary classification based on a threshold\n",
        "threshold = 0.5\n",
        "classification = 1 if output >= threshold else 0\n",
        "print(f\"Binary Classification: {classification}\")"
      ]
    },
    {
      "cell_type": "markdown",
      "source": [
        "DL LAB EXP-2"
      ],
      "metadata": {
        "id": "409NLy-R5t6t"
      }
    },
    {
      "cell_type": "code",
      "source": [
        "# Importing necessary libraries\n",
        "import numpy as np\n",
        "\n",
        "def step_function(x):\n",
        "    return 1 if x >= 0 else 0\n",
        "\n",
        "class SingleLayerPerceptron:\n",
        "    def __init__(self, input_size, learning_rate=0.1):\n",
        "        self.weights = np.zeros(input_size)  # Initialize weights to zero\n",
        "        self.bias = 0                        # Initialize bias to zero\n",
        "        self.learning_rate = learning_rate   # Set the learning rate\n",
        "\n",
        "    def predict(self, inputs):\n",
        "        # Calculate the weighted sum\n",
        "        linear_output = np.dot(inputs, self.weights) + self.bias\n",
        "        return step_function(linear_output)\n",
        "\n",
        "    def train(self, X, y, epochs=10):\n",
        "        for epoch in range(epochs):\n",
        "            print(f\"Epoch {epoch + 1}/{epochs}\")\n",
        "            for i in range(len(X)):\n",
        "                # Make a prediction\n",
        "                prediction = self.predict(X[i])\n",
        "                error = y[i] - prediction\n",
        "                self.weights += self.learning_rate * error * X[i]\n",
        "                self.bias += self.learning_rate * error\n",
        "                print(f\"Sample: {X[i]}, Target: {y[i]}, Prediction: {prediction}, Weights: {self.weights}, Bias: {self.bias}\")\n",
        "            print(\"-\" * 50)\n",
        "\n",
        "X = np.array([[0, 0], [0, 1], [1, 0], [1, 1]])  # Inputs\n",
        "y = np.array([0, 0, 0, 1])  # AND gate outputs\n",
        "\n",
        "slp = SingleLayerPerceptron(input_size=2)\n",
        "\n",
        "slp.train(X, y, epochs=10)\n",
        "\n",
        "print(\"\\nTesting the Perceptron:\")\n",
        "for i in range(len(X)):\n",
        "    prediction = slp.predict(X[i])\n",
        "    print(f\"Input: {X[i]}, Predicted Output: {prediction}, Target: {y[i]}\")"
      ],
      "metadata": {
        "colab": {
          "base_uri": "https://localhost:8080/",
          "height": 0
        },
        "id": "cjWzAC0e5atx",
        "outputId": "8e1b929c-43c8-41b7-a441-19705ba20e86"
      },
      "execution_count": 2,
      "outputs": [
        {
          "output_type": "stream",
          "name": "stdout",
          "text": [
            "Epoch 1/10\n",
            "Sample: [0 0], Target: 0, Prediction: 1, Weights: [0. 0.], Bias: -0.1\n",
            "Sample: [0 1], Target: 0, Prediction: 0, Weights: [0. 0.], Bias: -0.1\n",
            "Sample: [1 0], Target: 0, Prediction: 0, Weights: [0. 0.], Bias: -0.1\n",
            "Sample: [1 1], Target: 1, Prediction: 0, Weights: [0.1 0.1], Bias: 0.0\n",
            "--------------------------------------------------\n",
            "Epoch 2/10\n",
            "Sample: [0 0], Target: 0, Prediction: 1, Weights: [0.1 0.1], Bias: -0.1\n",
            "Sample: [0 1], Target: 0, Prediction: 1, Weights: [0.1 0. ], Bias: -0.2\n",
            "Sample: [1 0], Target: 0, Prediction: 0, Weights: [0.1 0. ], Bias: -0.2\n",
            "Sample: [1 1], Target: 1, Prediction: 0, Weights: [0.2 0.1], Bias: -0.1\n",
            "--------------------------------------------------\n",
            "Epoch 3/10\n",
            "Sample: [0 0], Target: 0, Prediction: 0, Weights: [0.2 0.1], Bias: -0.1\n",
            "Sample: [0 1], Target: 0, Prediction: 1, Weights: [0.2 0. ], Bias: -0.2\n",
            "Sample: [1 0], Target: 0, Prediction: 1, Weights: [0.1 0. ], Bias: -0.30000000000000004\n",
            "Sample: [1 1], Target: 1, Prediction: 0, Weights: [0.2 0.1], Bias: -0.20000000000000004\n",
            "--------------------------------------------------\n",
            "Epoch 4/10\n",
            "Sample: [0 0], Target: 0, Prediction: 0, Weights: [0.2 0.1], Bias: -0.20000000000000004\n",
            "Sample: [0 1], Target: 0, Prediction: 0, Weights: [0.2 0.1], Bias: -0.20000000000000004\n",
            "Sample: [1 0], Target: 0, Prediction: 0, Weights: [0.2 0.1], Bias: -0.20000000000000004\n",
            "Sample: [1 1], Target: 1, Prediction: 1, Weights: [0.2 0.1], Bias: -0.20000000000000004\n",
            "--------------------------------------------------\n",
            "Epoch 5/10\n",
            "Sample: [0 0], Target: 0, Prediction: 0, Weights: [0.2 0.1], Bias: -0.20000000000000004\n",
            "Sample: [0 1], Target: 0, Prediction: 0, Weights: [0.2 0.1], Bias: -0.20000000000000004\n",
            "Sample: [1 0], Target: 0, Prediction: 0, Weights: [0.2 0.1], Bias: -0.20000000000000004\n",
            "Sample: [1 1], Target: 1, Prediction: 1, Weights: [0.2 0.1], Bias: -0.20000000000000004\n",
            "--------------------------------------------------\n",
            "Epoch 6/10\n",
            "Sample: [0 0], Target: 0, Prediction: 0, Weights: [0.2 0.1], Bias: -0.20000000000000004\n",
            "Sample: [0 1], Target: 0, Prediction: 0, Weights: [0.2 0.1], Bias: -0.20000000000000004\n",
            "Sample: [1 0], Target: 0, Prediction: 0, Weights: [0.2 0.1], Bias: -0.20000000000000004\n",
            "Sample: [1 1], Target: 1, Prediction: 1, Weights: [0.2 0.1], Bias: -0.20000000000000004\n",
            "--------------------------------------------------\n",
            "Epoch 7/10\n",
            "Sample: [0 0], Target: 0, Prediction: 0, Weights: [0.2 0.1], Bias: -0.20000000000000004\n",
            "Sample: [0 1], Target: 0, Prediction: 0, Weights: [0.2 0.1], Bias: -0.20000000000000004\n",
            "Sample: [1 0], Target: 0, Prediction: 0, Weights: [0.2 0.1], Bias: -0.20000000000000004\n",
            "Sample: [1 1], Target: 1, Prediction: 1, Weights: [0.2 0.1], Bias: -0.20000000000000004\n",
            "--------------------------------------------------\n",
            "Epoch 8/10\n",
            "Sample: [0 0], Target: 0, Prediction: 0, Weights: [0.2 0.1], Bias: -0.20000000000000004\n",
            "Sample: [0 1], Target: 0, Prediction: 0, Weights: [0.2 0.1], Bias: -0.20000000000000004\n",
            "Sample: [1 0], Target: 0, Prediction: 0, Weights: [0.2 0.1], Bias: -0.20000000000000004\n",
            "Sample: [1 1], Target: 1, Prediction: 1, Weights: [0.2 0.1], Bias: -0.20000000000000004\n",
            "--------------------------------------------------\n",
            "Epoch 9/10\n",
            "Sample: [0 0], Target: 0, Prediction: 0, Weights: [0.2 0.1], Bias: -0.20000000000000004\n",
            "Sample: [0 1], Target: 0, Prediction: 0, Weights: [0.2 0.1], Bias: -0.20000000000000004\n",
            "Sample: [1 0], Target: 0, Prediction: 0, Weights: [0.2 0.1], Bias: -0.20000000000000004\n",
            "Sample: [1 1], Target: 1, Prediction: 1, Weights: [0.2 0.1], Bias: -0.20000000000000004\n",
            "--------------------------------------------------\n",
            "Epoch 10/10\n",
            "Sample: [0 0], Target: 0, Prediction: 0, Weights: [0.2 0.1], Bias: -0.20000000000000004\n",
            "Sample: [0 1], Target: 0, Prediction: 0, Weights: [0.2 0.1], Bias: -0.20000000000000004\n",
            "Sample: [1 0], Target: 0, Prediction: 0, Weights: [0.2 0.1], Bias: -0.20000000000000004\n",
            "Sample: [1 1], Target: 1, Prediction: 1, Weights: [0.2 0.1], Bias: -0.20000000000000004\n",
            "--------------------------------------------------\n",
            "\n",
            "Testing the Perceptron:\n",
            "Input: [0 0], Predicted Output: 0, Target: 0\n",
            "Input: [0 1], Predicted Output: 0, Target: 0\n",
            "Input: [1 0], Predicted Output: 0, Target: 0\n",
            "Input: [1 1], Predicted Output: 1, Target: 1\n"
          ]
        }
      ]
    },
    {
      "cell_type": "markdown",
      "source": [
        "DL LAB EXP-3"
      ],
      "metadata": {
        "id": "yWqvKrSL6AtC"
      }
    },
    {
      "cell_type": "code",
      "source": [
        "import numpy as np\n",
        "\n",
        "# Sigmoid activation function and its derivative\n",
        "def sigmoid(x):\n",
        "    return 1 / (1 + np.exp(-x))\n",
        "\n",
        "def sigmoid_derivative(x):\n",
        "    return sigmoid(x) * (1 - sigmoid(x))\n",
        "\n",
        "class MLP:\n",
        "    def __init__(self, input_size, hidden_size, output_size, learning_rate=0.01):\n",
        "        self.weights_input_hidden = np.random.uniform(-0.5, 0.5, (input_size, hidden_size))\n",
        "        self.bias_hidden = np.random.uniform(-0.5, 0.5, hidden_size)\n",
        "        self.weights_hidden_output = np.random.uniform(-0.5, 0.5, (hidden_size, output_size))\n",
        "        self.bias_output = np.random.uniform(-0.5, 0.5, output_size)\n",
        "        self.learning_rate = learning_rate\n",
        "\n",
        "    def forward(self, inputs):\n",
        "        self.hidden_layer_input = np.dot(inputs, self.weights_input_hidden) + self.bias_hidden\n",
        "        self.hidden_layer_output = sigmoid(self.hidden_layer_input)\n",
        "        self.output_layer_input = np.dot(self.hidden_layer_output, self.weights_hidden_output) + self.bias_output\n",
        "        self.output = sigmoid(self.output_layer_input)\n",
        "        return self.output\n",
        "\n",
        "    def backward(self, inputs, targets):\n",
        "        output_error = targets - self.output\n",
        "        output_delta = output_error * sigmoid_derivative(self.output_layer_input)\n",
        "\n",
        "        hidden_error = np.dot(output_delta, self.weights_hidden_output.T)\n",
        "        hidden_delta = hidden_error * sigmoid_derivative(self.hidden_layer_input)\n",
        "\n",
        "        self.weights_hidden_output += self.learning_rate * np.dot(self.hidden_layer_output.T, output_delta)\n",
        "        self.bias_output += self.learning_rate * np.sum(output_delta, axis=0)\n",
        "        self.weights_input_hidden += self.learning_rate * np.dot(inputs.T, hidden_delta)\n",
        "        self.bias_hidden += self.learning_rate * np.sum(hidden_delta, axis=0)\n",
        "\n",
        "    def train(self, inputs, targets, epochs=10000):\n",
        "        for epoch in range(epochs):\n",
        "            self.forward(inputs)\n",
        "            self.backward(inputs, targets)\n",
        "\n",
        "            if (epoch + 1) % 1000 == 0:\n",
        "                loss = np.mean((targets - self.output) ** 2)\n",
        "                print(f\"Epoch {epoch + 1}/{epochs}, Loss: {loss:.4f}\")\n",
        "\n",
        "    def predict(self, inputs):\n",
        "        predictions = self.forward(inputs)\n",
        "        return np.round(predictions)\n",
        "\n",
        "X = np.array([[0, 0], [0, 1], [1, 0], [1, 1]])\n",
        "y = np.array([[0], [1], [1], [0]])\n",
        "\n",
        "mlp = MLP(input_size=2, hidden_size=2, output_size=1, learning_rate=0.1)\n",
        "mlp.train(X, y, epochs=10000)\n",
        "\n",
        "print(\"\\nTesting the MLP on XOR Gate:\")\n",
        "for i in range(len(X)):\n",
        "    prediction = mlp.predict(X[i].reshape(1, -1))\n",
        "    print(f\"Input: {X[i]}, Predicted Output: {int(prediction.item())}, Target: {y[i][0]}\")"
      ],
      "metadata": {
        "colab": {
          "base_uri": "https://localhost:8080/",
          "height": 0
        },
        "id": "KbLSuzlP5zGe",
        "outputId": "0dda7c0a-4961-4ab5-a16c-ec85419d98cd"
      },
      "execution_count": 3,
      "outputs": [
        {
          "output_type": "stream",
          "name": "stdout",
          "text": [
            "Epoch 1000/10000, Loss: 0.2496\n",
            "Epoch 2000/10000, Loss: 0.2484\n",
            "Epoch 3000/10000, Loss: 0.2363\n",
            "Epoch 4000/10000, Loss: 0.1087\n",
            "Epoch 5000/10000, Loss: 0.0238\n",
            "Epoch 6000/10000, Loss: 0.0106\n",
            "Epoch 7000/10000, Loss: 0.0065\n",
            "Epoch 8000/10000, Loss: 0.0046\n",
            "Epoch 9000/10000, Loss: 0.0035\n",
            "Epoch 10000/10000, Loss: 0.0028\n",
            "\n",
            "Testing the MLP on XOR Gate:\n",
            "Input: [0 0], Predicted Output: 0, Target: 0\n",
            "Input: [0 1], Predicted Output: 1, Target: 1\n",
            "Input: [1 0], Predicted Output: 1, Target: 1\n",
            "Input: [1 1], Predicted Output: 0, Target: 0\n"
          ]
        }
      ]
    },
    {
      "cell_type": "markdown",
      "source": [
        "DL LAB EXP-4"
      ],
      "metadata": {
        "id": "29baoePa6NwK"
      }
    },
    {
      "cell_type": "code",
      "source": [
        "import numpy as np\n",
        "import matplotlib.pyplot as plt\n",
        "\n",
        "def sigmoid(x):\n",
        "    return 1 / (1 + np.exp(-x))\n",
        "\n",
        "def relu(x):\n",
        "    return np.maximum(0, x)\n",
        "\n",
        "def tanh(x):\n",
        "    return np.tanh(x)\n",
        "\n",
        "x = np.linspace(-10, 10, 100)\n",
        "\n",
        "sigmoid_output = sigmoid(x)\n",
        "relu_output = relu(x)\n",
        "tanh_output = tanh(x)\n",
        "\n",
        "plt.figure(figsize=(10, 6))\n",
        "\n",
        "plt.plot(x, sigmoid_output, label=\"Sigmoid\", color=\"blue\")\n",
        "# ReLU\n",
        "plt.plot(x, relu_output, label=\"ReLU\", color=\"green\")\n",
        "# Tanh\n",
        "plt.plot(x, tanh_output, label=\"Tanh\", color=\"red\")\n",
        "\n",
        "plt.title(\"Comparison of Activation Functions\")\n",
        "plt.xlabel(\"Input\")\n",
        "plt.ylabel(\"Output\")\n",
        "plt.axhline(0, color=\"black\", linewidth=0.5, linestyle=\"--\")\n",
        "plt.axvline(0, color=\"black\", linewidth=0.5, linestyle=\"--\")\n",
        "plt.legend()\n",
        "plt.grid(alpha=0.3)\n",
        "plt.show()"
      ],
      "metadata": {
        "colab": {
          "base_uri": "https://localhost:8080/",
          "height": 564
        },
        "id": "WvMLZ1va6FM0",
        "outputId": "562f4eaf-884e-45ef-ef17-2ee15ff9b87c"
      },
      "execution_count": 4,
      "outputs": [
        {
          "output_type": "display_data",
          "data": {
            "text/plain": [
              "<Figure size 1000x600 with 1 Axes>"
            ],
            "image/png": "[encoded data removed]"
          },
          "metadata": {}
        }
      ]
    },
    {
      "cell_type": "markdown",
      "source": [
        "DL LAB EXP-5"
      ],
      "metadata": {
        "id": "dUGZ2W476Xf4"
      }
    },
    {
      "cell_type": "code",
      "source": [
        "import numpy as np\n",
        "\n",
        "def sigmoid(x):\n",
        "    return 1 / (1 + np.exp(-x))\n",
        "\n",
        "def sigmoid_derivative(x):\n",
        "    return x * (1 - x)\n",
        "\n",
        "class TwoLayerNN:\n",
        "    def __init__(self, input_size, hidden_size, output_size, learning_rate=0.1):\n",
        "        # Initialize weights and biases with small random values\n",
        "        self.weights_input_hidden = np.random.uniform(-1, 1, (input_size, hidden_size))\n",
        "        self.bias_hidden = np.random.uniform(-1, 1, hidden_size)\n",
        "        self.weights_hidden_output = np.random.uniform(-1, 1, (hidden_size, output_size))\n",
        "        self.bias_output = np.random.uniform(-1, 1, output_size)\n",
        "        self.learning_rate = learning_rate\n",
        "\n",
        "    def forward_propagation(self, inputs):\n",
        "        # Calculate hidden layer activations\n",
        "        self.hidden_input = np.dot(inputs, self.weights_input_hidden) + self.bias_hidden\n",
        "        self.hidden_output = sigmoid(self.hidden_input)\n",
        "\n",
        "        self.final_input = np.dot(self.hidden_output, self.weights_hidden_output) + self.bias_output\n",
        "        self.final_output = sigmoid(self.final_input)\n",
        "\n",
        "        return self.final_output\n",
        "\n",
        "    def back_propagation(self, inputs, targets):\n",
        "        # Calculate output layer error\n",
        "        output_error = targets - self.final_output\n",
        "        output_delta = output_error * sigmoid_derivative(self.final_output)\n",
        "\n",
        "        hidden_error = np.dot(output_delta, self.weights_hidden_output.T)\n",
        "        hidden_delta = hidden_error * sigmoid_derivative(self.hidden_output)\n",
        "\n",
        "        self.weights_hidden_output += self.learning_rate * np.dot(self.hidden_output.T, output_delta)\n",
        "        self.bias_output += self.learning_rate * np.sum(output_delta, axis=0)\n",
        "        self.weights_input_hidden += self.learning_rate * np.dot(inputs.T, hidden_delta)\n",
        "        self.bias_hidden += self.learning_rate * np.sum(hidden_delta, axis=0)\n",
        "\n",
        "    def train(self, inputs, targets, epochs=10000):\n",
        "        for epoch in range(epochs):\n",
        "            # Forward and backward pass\n",
        "            self.forward_propagation(inputs)\n",
        "            self.back_propagation(inputs, targets)\n",
        "\n",
        "            # Print loss every 1000 epochs\n",
        "            if (epoch + 1) % 1000 == 0:\n",
        "                loss = np.mean((targets - self.final_output) ** 2)\n",
        "                print(f\"Epoch {epoch + 1}/{epochs}, Loss: {loss:.4f}\")\n",
        "\n",
        "    def predict(self, inputs):\n",
        "        # Perform forward pass for prediction\n",
        "        return self.forward_propagation(inputs)\n",
        "\n",
        "X = np.array([[0, 0], [0, 1], [1, 0], [1, 1]])\n",
        "y = np.array([[0], [1], [1], [0]])\n",
        "\n",
        "nn = TwoLayerNN(input_size=2, hidden_size=2, output_size=1, learning_rate=0.1)\n",
        "nn.train(X, y, epochs=10000)\n",
        "\n",
        "print(\"\\nTesting the Neural Network on XOR Gate:\")\n",
        "for i in range(len(X)):\n",
        "    prediction = nn.predict(X[i].reshape(1, -1))\n",
        "    print(f\"Input: {X[i]}, Predicted Output: {np.round(prediction[0][0])}, Target: {y[i][0]}\")"
      ],
      "metadata": {
        "colab": {
          "base_uri": "https://localhost:8080/",
          "height": 0
        },
        "id": "eRzy7dYe6Ro0",
        "outputId": "a52767d2-15c2-42cb-f5bb-c59212fc699e"
      },
      "execution_count": 5,
      "outputs": [
        {
          "output_type": "stream",
          "name": "stdout",
          "text": [
            "Epoch 1000/10000, Loss: 0.2499\n",
            "Epoch 2000/10000, Loss: 0.2498\n",
            "Epoch 3000/10000, Loss: 0.2496\n",
            "Epoch 4000/10000, Loss: 0.2488\n",
            "Epoch 5000/10000, Loss: 0.2429\n",
            "Epoch 6000/10000, Loss: 0.1635\n",
            "Epoch 7000/10000, Loss: 0.0404\n",
            "Epoch 8000/10000, Loss: 0.0152\n",
            "Epoch 9000/10000, Loss: 0.0085\n",
            "Epoch 10000/10000, Loss: 0.0057\n",
            "\n",
            "Testing the Neural Network on XOR Gate:\n",
            "Input: [0 0], Predicted Output: 0.0, Target: 0\n",
            "Input: [0 1], Predicted Output: 1.0, Target: 1\n",
            "Input: [1 0], Predicted Output: 1.0, Target: 1\n",
            "Input: [1 1], Predicted Output: 0.0, Target: 0\n"
          ]
        }
      ]
    }
  ]
}